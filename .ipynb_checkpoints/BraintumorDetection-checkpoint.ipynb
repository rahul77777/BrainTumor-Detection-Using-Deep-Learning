{
 "cells": [
  {
   "cell_type": "code",
   "execution_count": 1,
   "id": "505bc87f",
   "metadata": {},
   "outputs": [],
   "source": [
    "import numpy as np\n",
    "import matplotlib.pyplot as plt\n",
    "import os\n",
    "import math\n",
    "import shutil\n",
    "import glob"
   ]
  },
  {
   "cell_type": "code",
   "execution_count": 2,
   "id": "3488af80",
   "metadata": {},
   "outputs": [],
   "source": [
    "# count no. of images in respective classes i.e. 0= brain tumor and 1= healty\n",
    "ROOT_DIR = \"C:/Users/RWaghmare/Brain Tumour Detection Using CNN/Brain Tumor Data Set\""
   ]
  },
  {
   "cell_type": "code",
   "execution_count": 3,
   "id": "b5b5f50f",
   "metadata": {},
   "outputs": [],
   "source": [
    "number_of_images = {}"
   ]
  },
  {
   "cell_type": "code",
   "execution_count": 4,
   "id": "1167c1ac",
   "metadata": {},
   "outputs": [],
   "source": [
    "for dir in os.listdir(ROOT_DIR):\n",
    "    number_of_images[dir] = len(os.listdir(os.path.join(ROOT_DIR, dir)))"
   ]
  },
  {
   "cell_type": "code",
   "execution_count": 5,
   "id": "5835ddab",
   "metadata": {},
   "outputs": [
    {
     "data": {
      "text/plain": [
       "dict_items([('Brain Tumor', 263), ('Healthey', 219)])"
      ]
     },
     "execution_count": 5,
     "metadata": {},
     "output_type": "execute_result"
    }
   ],
   "source": [
    "number_of_images.items()"
   ]
  },
  {
   "cell_type": "code",
   "execution_count": 6,
   "id": "61bb2c94",
   "metadata": {},
   "outputs": [],
   "source": [
    "# data splitting\n",
    "def dataFolder(p, split):\n",
    "    if not os.path.exists(\"./\"+p):\n",
    "        os.mkdir(\"./\"+p)\n",
    "\n",
    "        for dir in os.listdir(ROOT_DIR):\n",
    "            os.makedirs(\"./\"+p+\"/\"+dir)\n",
    "\n",
    "            for img in np.random.choice(a = os.listdir(os.path.join(ROOT_DIR, dir) ) , \n",
    "                                        size = (math.floor(split*number_of_images[dir])-5) ,\n",
    "                                        replace=False ):\n",
    "                O = os.path.join(ROOT_DIR,dir,img)\n",
    "                D = os.path.join(\"./\"+p, dir)\n",
    "                shutil.copy(O,D)\n",
    "                os.remove(O)\n",
    "    else:\n",
    "        print(f\"{p}folder already exist\")"
   ]
  },
  {
   "cell_type": "code",
   "execution_count": 7,
   "id": "e640b813",
   "metadata": {},
   "outputs": [
    {
     "name": "stdout",
     "output_type": "stream",
     "text": [
      "trainfolder already exist\n"
     ]
    }
   ],
   "source": [
    "dataFolder(\"train\", 0.75)"
   ]
  },
  {
   "cell_type": "code",
   "execution_count": 8,
   "id": "df391eca",
   "metadata": {},
   "outputs": [
    {
     "name": "stdout",
     "output_type": "stream",
     "text": [
      "validationfolder already exist\n"
     ]
    }
   ],
   "source": [
    "dataFolder(\"validation\",0.15)"
   ]
  },
  {
   "cell_type": "code",
   "execution_count": 10,
   "id": "ed10e0a7",
   "metadata": {},
   "outputs": [],
   "source": [
    "dataFolder(\"test\",0.15)"
   ]
  },
  {
   "cell_type": "code",
   "execution_count": 11,
   "id": "df93126f",
   "metadata": {},
   "outputs": [
    {
     "data": {
      "text/plain": [
       "dict_items([('Brain Tumor', 229), ('Healthey', 192)])"
      ]
     },
     "execution_count": 11,
     "metadata": {},
     "output_type": "execute_result"
    }
   ],
   "source": [
    "number_of_images = {}\n",
    "\n",
    "for dir in os.listdir(ROOT_DIR):\n",
    "    number_of_images[dir] = len(os.listdir(os.path.join(ROOT_DIR, dir)))\n",
    "    \n",
    "    \n",
    "number_of_images.items()"
   ]
  },
  {
   "cell_type": "markdown",
   "id": "dcafe983",
   "metadata": {},
   "source": [
    "# Model Building"
   ]
  },
  {
   "cell_type": "code",
   "execution_count": 12,
   "id": "21fd60b5",
   "metadata": {},
   "outputs": [],
   "source": [
    "from keras.layers import Conv2D, MaxPool2D, Dropout, Flatten, Dense, BatchNormalization, GlobalAvgPool2D\n",
    "from keras.models import Sequential\n",
    "from keras.preprocessing.image import ImageDataGenerator\n",
    "import keras"
   ]
  },
  {
   "cell_type": "markdown",
   "id": "390203e4",
   "metadata": {},
   "source": [
    "### CNN Model"
   ]
  },
  {
   "cell_type": "code",
   "execution_count": 13,
   "id": "314dcc24",
   "metadata": {},
   "outputs": [
    {
     "name": "stdout",
     "output_type": "stream",
     "text": [
      "Model: \"sequential\"\n",
      "_________________________________________________________________\n",
      "Layer (type)                 Output Shape              Param #   \n",
      "=================================================================\n",
      "conv2d (Conv2D)              (None, 222, 222, 16)      448       \n",
      "_________________________________________________________________\n",
      "conv2d_1 (Conv2D)            (None, 220, 220, 36)      5220      \n",
      "_________________________________________________________________\n",
      "max_pooling2d (MaxPooling2D) (None, 110, 110, 36)      0         \n",
      "_________________________________________________________________\n",
      "conv2d_2 (Conv2D)            (None, 108, 108, 64)      20800     \n",
      "_________________________________________________________________\n",
      "max_pooling2d_1 (MaxPooling2 (None, 54, 54, 64)        0         \n",
      "_________________________________________________________________\n",
      "conv2d_3 (Conv2D)            (None, 52, 52, 128)       73856     \n",
      "_________________________________________________________________\n",
      "max_pooling2d_2 (MaxPooling2 (None, 26, 26, 128)       0         \n",
      "_________________________________________________________________\n",
      "dropout (Dropout)            (None, 26, 26, 128)       0         \n",
      "_________________________________________________________________\n",
      "flatten (Flatten)            (None, 86528)             0         \n",
      "_________________________________________________________________\n",
      "dense (Dense)                (None, 64)                5537856   \n",
      "_________________________________________________________________\n",
      "dropout_1 (Dropout)          (None, 64)                0         \n",
      "_________________________________________________________________\n",
      "dense_1 (Dense)              (None, 1)                 65        \n",
      "=================================================================\n",
      "Total params: 5,638,245\n",
      "Trainable params: 5,638,245\n",
      "Non-trainable params: 0\n",
      "_________________________________________________________________\n"
     ]
    }
   ],
   "source": [
    "model = Sequential()\n",
    "model.add(Conv2D(filters = 16, kernel_size=(3,3), activation= 'relu' , input_shape = (224,224,3) ))\n",
    "\n",
    "model.add(Conv2D(filters = 36, kernel_size=(3,3), activation= 'relu' ))\n",
    "model.add(MaxPool2D(pool_size=(2,2)))\n",
    "\n",
    "model.add(Conv2D(filters = 64, kernel_size=(3,3), activation= 'relu' ))\n",
    "model.add(MaxPool2D(pool_size=(2,2)))\n",
    "\n",
    "model.add(Conv2D(filters = 128, kernel_size=(3,3), activation= 'relu' ))\n",
    "model.add(MaxPool2D(pool_size=(2,2)))\n",
    "\n",
    "model.add(Dropout(rate=0.25))\n",
    "\n",
    "model.add(Flatten())\n",
    "model.add(Dense(units = 64, activation= 'relu'))\n",
    "model.add(Dropout(rate=0.25))\n",
    "model.add(Dense(units= 1, activation= 'sigmoid'))\n",
    "\n",
    "model.summary()"
   ]
  },
  {
   "cell_type": "code",
   "execution_count": 14,
   "id": "1e85b002",
   "metadata": {},
   "outputs": [],
   "source": [
    "model.compile(optimizer='adam', loss= keras.losses.binary_crossentropy, metrics=['accuracy'])"
   ]
  },
  {
   "cell_type": "markdown",
   "id": "ba53b348",
   "metadata": {},
   "source": [
    "Preparing data using data generator"
   ]
  },
  {
   "cell_type": "code",
   "execution_count": 15,
   "id": "522e6a4b",
   "metadata": {},
   "outputs": [],
   "source": [
    "def preprocessImages(path):\n",
    "    \"\"\"\n",
    "    input = path\n",
    "    output = pre processed image\n",
    "    \"\"\"\n",
    "    image_data = ImageDataGenerator(zoom_range= 0.2, shear_range= 0.2, rescale= 1/255, horizontal_flip= True)\n",
    "    image = image_data.flow_from_directory(directory = path, target_size = (224,224), batch_size= 32, class_mode = 'binary')\n",
    "    \n",
    "    return image"
   ]
  },
  {
   "cell_type": "code",
   "execution_count": 16,
   "id": "9ebb3b79",
   "metadata": {},
   "outputs": [
    {
     "name": "stdout",
     "output_type": "stream",
     "text": [
      "Found 3439 images belonging to 2 classes.\n"
     ]
    }
   ],
   "source": [
    "path = \"C:/Users/RWaghmare/Brain Tumour Detection Using CNN/train\"\n",
    "train_data = preprocessImages(path)"
   ]
  },
  {
   "cell_type": "code",
   "execution_count": 17,
   "id": "ef3b10b2",
   "metadata": {},
   "outputs": [],
   "source": [
    "def preprocessImages1(path):\n",
    "    \"\"\"\n",
    "    input = path\n",
    "    output = pre processed image\n",
    "    \"\"\"\n",
    "    image_data = ImageDataGenerator(rescale= 1/255)\n",
    "    image = image_data.flow_from_directory(directory = path, target_size = (224,224), batch_size= 32, class_mode = 'binary')\n",
    "    \n",
    "    return image"
   ]
  },
  {
   "cell_type": "code",
   "execution_count": 18,
   "id": "06fbc1bb",
   "metadata": {},
   "outputs": [
    {
     "name": "stdout",
     "output_type": "stream",
     "text": [
      "Found 61 images belonging to 2 classes.\n"
     ]
    }
   ],
   "source": [
    "path = \"C:/Users/RWaghmare/Brain Tumour Detection Using CNN/test\"\n",
    "test_data = preprocessImages1(path)"
   ]
  },
  {
   "cell_type": "code",
   "execution_count": 19,
   "id": "437664ed",
   "metadata": {},
   "outputs": [
    {
     "name": "stdout",
     "output_type": "stream",
     "text": [
      "Found 679 images belonging to 2 classes.\n"
     ]
    }
   ],
   "source": [
    "path = \"C:/Users/RWaghmare/Brain Tumour Detection Using CNN/validation\"\n",
    "val_data = preprocessImages1(path)"
   ]
  },
  {
   "cell_type": "code",
   "execution_count": 20,
   "id": "ac80da18",
   "metadata": {},
   "outputs": [],
   "source": [
    "from keras.callbacks import ModelCheckpoint, EarlyStopping\n",
    "\n",
    "# early stopping\n",
    "es = EarlyStopping(monitor=\"val_accuracy\", min_delta= 0.01, patience= 3, verbose= 1, mode = 'auto')\n",
    "\n",
    "# Model Check Point\n",
    "mc = ModelCheckpoint(monitor=\"val_accuracy\", filepath=\"./bestmodel.h5\", verbose= 1, save_best_only= True, mode = 'auto')\n",
    "\n",
    "cd = [es,mc]"
   ]
  },
  {
   "cell_type": "markdown",
   "id": "d2b38a76",
   "metadata": {},
   "source": [
    "### Model Training"
   ]
  },
  {
   "cell_type": "code",
   "execution_count": null,
   "id": "0f750a78",
   "metadata": {},
   "outputs": [],
   "source": [
    "hs = model.fit_generator(generator = train_data)"
   ]
  }
 ],
 "metadata": {
  "kernelspec": {
   "display_name": "Python 3",
   "language": "python",
   "name": "python3"
  },
  "language_info": {
   "codemirror_mode": {
    "name": "ipython",
    "version": 3
   },
   "file_extension": ".py",
   "mimetype": "text/x-python",
   "name": "python",
   "nbconvert_exporter": "python",
   "pygments_lexer": "ipython3",
   "version": "3.8.8"
  }
 },
 "nbformat": 4,
 "nbformat_minor": 5
}
